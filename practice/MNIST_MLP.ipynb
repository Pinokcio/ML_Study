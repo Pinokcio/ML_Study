{
  "nbformat": 4,
  "nbformat_minor": 0,
  "metadata": {
    "colab": {
      "name": "MNIST_MLP.ipynb",
      "provenance": [],
      "authorship_tag": "ABX9TyN7zNiBuVbNcJHeAM3XxmKw",
      "include_colab_link": true
    },
    "kernelspec": {
      "name": "python3",
      "display_name": "Python 3"
    },
    "language_info": {
      "name": "python"
    },
    "accelerator": "GPU"
  },
  "cells": [
    {
      "cell_type": "markdown",
      "metadata": {
        "id": "view-in-github",
        "colab_type": "text"
      },
      "source": [
        "<a href=\"https://colab.research.google.com/github/Pinokcio/ML_Study/blob/main/practice/MNIST_MLP.ipynb\" target=\"_parent\"><img src=\"https://colab.research.google.com/assets/colab-badge.svg\" alt=\"Open In Colab\"/></a>"
      ]
    },
    {
      "cell_type": "code",
      "execution_count": null,
      "metadata": {
        "colab": {
          "base_uri": "https://localhost:8080/"
        },
        "id": "Sn21WLPd5USs",
        "outputId": "2408b41f-ba01-40f7-c1bd-5961543ebab7"
      },
      "outputs": [
        {
          "output_type": "stream",
          "name": "stdout",
          "text": [
            "Requirement already satisfied: torch in /usr/local/lib/python3.7/dist-packages (1.10.0+cu111)\n",
            "Requirement already satisfied: typing-extensions in /usr/local/lib/python3.7/dist-packages (from torch) (4.1.1)\n",
            "Requirement already satisfied: torchvision in /usr/local/lib/python3.7/dist-packages (0.11.1+cu111)\n",
            "Requirement already satisfied: pillow!=8.3.0,>=5.3.0 in /usr/local/lib/python3.7/dist-packages (from torchvision) (7.1.2)\n",
            "Requirement already satisfied: numpy in /usr/local/lib/python3.7/dist-packages (from torchvision) (1.21.5)\n",
            "Requirement already satisfied: torch==1.10.0 in /usr/local/lib/python3.7/dist-packages (from torchvision) (1.10.0+cu111)\n",
            "Requirement already satisfied: typing-extensions in /usr/local/lib/python3.7/dist-packages (from torch==1.10.0->torchvision) (4.1.1)\n"
          ]
        }
      ],
      "source": [
        "!pip3 install torch\n",
        "!pip3 install torchvision"
      ]
    },
    {
      "cell_type": "code",
      "source": [
        "import torch\n",
        "device = \"cuda\" if torch.cuda.is_available() else \"cpu\"\n",
        "\n",
        "print(f\"device : {device}\")"
      ],
      "metadata": {
        "colab": {
          "base_uri": "https://localhost:8080/"
        },
        "id": "NTbz3EyK5y9x",
        "outputId": "3da7e5b7-128e-4979-9b3b-7381b3317257"
      },
      "execution_count": null,
      "outputs": [
        {
          "output_type": "stream",
          "name": "stdout",
          "text": [
            "device : cuda\n"
          ]
        }
      ]
    },
    {
      "cell_type": "code",
      "source": [
        "from torchvision import datasets\n",
        "from torchvision.transforms import ToTensor, Lambda\n",
        "from torch.utils.data import DataLoader\n",
        "train_ds = datasets.FashionMNIST(\n",
        "    root = \"data\",\n",
        "    train = True,\n",
        "    download = True,\n",
        "    transform=ToTensor(),\n",
        "    target_transform=Lambda(lambda y : torch.zeros(10, dtype=torch.float).scatter_(0, torch.tensor(y), value=1))\n",
        ")\n",
        "test_ds = datasets.FashionMNIST(\n",
        "    root = \"data\",\n",
        "    train = False,\n",
        "    download = True,\n",
        "    transform=ToTensor(),\n",
        "    target_transform=Lambda(lambda y : torch.zeros(10, dtype=torch.float).scatter_(0, torch.tensor(y), value=1))\n",
        ")\n",
        "\n",
        "batch_size = 64\n",
        "trainDL = DataLoader(train_ds, batch_size = batch_size, shuffle = True)\n",
        "testDL = DataLoader(test_ds, batch_size = batch_size, shuffle = True)"
      ],
      "metadata": {
        "id": "Eumw4ho05645"
      },
      "execution_count": null,
      "outputs": []
    },
    {
      "cell_type": "code",
      "source": [
        "import torch.nn as nn"
      ],
      "metadata": {
        "id": "-DZrimXn8Z3F"
      },
      "execution_count": null,
      "outputs": []
    },
    {
      "cell_type": "code",
      "source": [
        "class NeuralNetwork(nn.Module):\n",
        "  def __init__(self):\n",
        "    super(NeuralNetwork, self).__init__()\n",
        "    self.flatten = nn.Flatten()\n",
        "    self.linear_relu_stack = nn.Sequential(\n",
        "        nn.Linear(28*28,512),\n",
        "        nn.ReLU(),\n",
        "        nn.Linear(512,512),\n",
        "        nn.ReLU(),\n",
        "        nn.Linear(512, 10),\n",
        "    )\n",
        "  \n",
        "  def forward(self, x):\n",
        "    x = self.flatten(x)\n",
        "    logits = self.linear_relu_stack(x)\n",
        "    return logit"
      ],
      "metadata": {
        "id": "W-8kl_gm8L0b"
      },
      "execution_count": null,
      "outputs": []
    },
    {
      "cell_type": "code",
      "source": [
        "model = NeuralNetwork().to(device)\n",
        "print(model)"
      ],
      "metadata": {
        "colab": {
          "base_uri": "https://localhost:8080/"
        },
        "id": "1Exy030G86iU",
        "outputId": "776868e6-7f0f-4995-f23f-9d6571b68334"
      },
      "execution_count": null,
      "outputs": [
        {
          "output_type": "stream",
          "name": "stdout",
          "text": [
            "NeuralNetwork(\n",
            "  (flatten): Flatten(start_dim=1, end_dim=-1)\n",
            "  (linear_relu_stack): Sequential(\n",
            "    (0): Linear(in_features=784, out_features=512, bias=True)\n",
            "    (1): ReLU()\n",
            "    (2): Linear(in_features=512, out_features=512, bias=True)\n",
            "    (3): ReLU()\n",
            "    (4): Linear(in_features=512, out_features=10, bias=True)\n",
            "  )\n",
            ")\n"
          ]
        }
      ]
    },
    {
      "cell_type": "code",
      "source": [
        "loss_fn = nn.CrossEntropyLoss()\n",
        "optimizer = torch.optim.SGD(model.parameters(), lr=1e-3)"
      ],
      "metadata": {
        "id": "VLb1sRYg_3aP"
      },
      "execution_count": null,
      "outputs": []
    },
    {
      "cell_type": "code",
      "source": [
        "def train(dataloader, model, loss_fn, optimizer):\n",
        "  size = len(dataloader.dataset)\n",
        "  for batch, (X, y) in enumerate(dataloader):\n",
        "    X, y = X.to(device), y.to(device)\n",
        "\n",
        "    pred = model(X)\n",
        "    loss = loss_fn(pred, y)\n",
        "\n",
        "    optimizer.zero_grad()\n",
        "    loss.backward()\n",
        "    optimizer.step()\n",
        "\n",
        "    if batch % 100 == 0:\n",
        "      loss, current = loss.item(), batch * len(X)\n",
        "      print(f\"loss: {loss:>7f} [{current:>5d}/{size:>5d}]\")"
      ],
      "metadata": {
        "id": "RoyshavQ9lYg"
      },
      "execution_count": null,
      "outputs": []
    },
    {
      "cell_type": "code",
      "source": [
        "def test(dataloader, model, loss_fn):\n",
        "  size = len(dataloader.dataset)\n",
        "  num_batches = len(dataloader)\n",
        "  model.eval()\n",
        "  test_loss, correct = 0, 0\n",
        "  with torch.no_grad():\n",
        "    for X, y in dataloader:\n",
        "      X, y = X.to(device), y.to(device)\n",
        "      pred = model(X)\n",
        "      test_loss += loss_fn(pred, y).item()\n",
        "      correct += (pred.argmax(1) == y.argmax(1)).type(torch.float).sum().item()\n",
        "  test_loss /= num_batches\n",
        "  correct /= size\n",
        "  print(f\"Test Error: \\n Accuracy: {(100*correct):>0.1f}%, Avg loss: {test_loss:>8f}\\n\")\n"
      ],
      "metadata": {
        "id": "l-1l4egH-yME"
      },
      "execution_count": null,
      "outputs": []
    },
    {
      "cell_type": "code",
      "source": [
        "epochs = 5\n",
        "for t in range(epochs):\n",
        "  print(f\"Epoch {t+1}\\n-----------------------\")\n",
        "  train(trainDL, model, loss_fn, optimizer)\n",
        "  test(testDL, model, loss_fn)\n",
        "print(\"DONE!\")"
      ],
      "metadata": {
        "colab": {
          "base_uri": "https://localhost:8080/"
        },
        "id": "wYmOyPHS_eB4",
        "outputId": "a9f70381-02bc-4973-c38c-18004f215761"
      },
      "execution_count": null,
      "outputs": [
        {
          "output_type": "stream",
          "name": "stdout",
          "text": [
            "Epoch 1\n",
            "-----------------------\n",
            "loss: 0.658095 [    0/60000]\n",
            "loss: 0.781283 [ 6400/60000]\n",
            "loss: 0.611289 [12800/60000]\n",
            "loss: 0.727196 [19200/60000]\n",
            "loss: 0.832589 [25600/60000]\n",
            "loss: 0.750059 [32000/60000]\n",
            "loss: 0.757918 [38400/60000]\n",
            "loss: 0.589580 [44800/60000]\n",
            "loss: 0.742801 [51200/60000]\n",
            "loss: 0.648321 [57600/60000]\n",
            "Test Error: \n",
            " Accuracy: 72.2%, Avg loss: 0.742881\n",
            "\n",
            "Epoch 2\n",
            "-----------------------\n",
            "loss: 0.677537 [    0/60000]\n",
            "loss: 0.742390 [ 6400/60000]\n",
            "loss: 0.798460 [12800/60000]\n",
            "loss: 0.772505 [19200/60000]\n",
            "loss: 0.812432 [25600/60000]\n",
            "loss: 0.749952 [32000/60000]\n",
            "loss: 0.680331 [38400/60000]\n",
            "loss: 0.796026 [44800/60000]\n",
            "loss: 0.638585 [51200/60000]\n",
            "loss: 0.570587 [57600/60000]\n",
            "Test Error: \n",
            " Accuracy: 73.4%, Avg loss: 0.723864\n",
            "\n",
            "Epoch 3\n",
            "-----------------------\n",
            "loss: 0.535791 [    0/60000]\n",
            "loss: 0.755070 [ 6400/60000]\n",
            "loss: 0.601112 [12800/60000]\n",
            "loss: 0.826405 [19200/60000]\n",
            "loss: 0.565777 [25600/60000]\n",
            "loss: 0.678926 [32000/60000]\n",
            "loss: 0.513848 [38400/60000]\n",
            "loss: 0.663181 [44800/60000]\n",
            "loss: 0.590043 [51200/60000]\n",
            "loss: 0.654517 [57600/60000]\n",
            "Test Error: \n",
            " Accuracy: 74.6%, Avg loss: 0.705075\n",
            "\n",
            "Epoch 4\n",
            "-----------------------\n",
            "loss: 0.646586 [    0/60000]\n",
            "loss: 0.667612 [ 6400/60000]\n",
            "loss: 0.627924 [12800/60000]\n",
            "loss: 0.802972 [19200/60000]\n",
            "loss: 0.686491 [25600/60000]\n",
            "loss: 0.888131 [32000/60000]\n",
            "loss: 0.835897 [38400/60000]\n",
            "loss: 0.841642 [44800/60000]\n",
            "loss: 0.584650 [51200/60000]\n",
            "loss: 0.693048 [57600/60000]\n",
            "Test Error: \n",
            " Accuracy: 75.2%, Avg loss: 0.688853\n",
            "\n",
            "Epoch 5\n",
            "-----------------------\n",
            "loss: 0.734282 [    0/60000]\n",
            "loss: 0.698744 [ 6400/60000]\n",
            "loss: 0.547654 [12800/60000]\n",
            "loss: 0.404812 [19200/60000]\n",
            "loss: 0.546885 [25600/60000]\n",
            "loss: 0.569719 [32000/60000]\n",
            "loss: 0.707198 [38400/60000]\n",
            "loss: 0.534772 [44800/60000]\n",
            "loss: 0.701161 [51200/60000]\n",
            "loss: 0.648299 [57600/60000]\n",
            "Test Error: \n",
            " Accuracy: 76.2%, Avg loss: 0.674646\n",
            "\n",
            "DONE!\n"
          ]
        }
      ]
    },
    {
      "cell_type": "code",
      "source": [
        ""
      ],
      "metadata": {
        "id": "1_t4Ohh2Sk_e"
      },
      "execution_count": null,
      "outputs": []
    }
  ]
}