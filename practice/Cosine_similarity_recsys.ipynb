{
  "nbformat": 4,
  "nbformat_minor": 0,
  "metadata": {
    "colab": {
      "name": "kakao_mini_recsys.ipynb",
      "provenance": [],
      "collapsed_sections": [],
      "authorship_tag": "ABX9TyPtS2Wly81giPq5E4xRhyC9",
      "include_colab_link": true
    },
    "kernelspec": {
      "name": "python3",
      "display_name": "Python 3"
    },
    "language_info": {
      "name": "python"
    }
  },
  "cells": [
    {
      "cell_type": "markdown",
      "metadata": {
        "id": "view-in-github",
        "colab_type": "text"
      },
      "source": [
        "<a href=\"https://colab.research.google.com/github/Pinokcio/ML_Study/blob/main/practice/Cosine_similarity_recsys.ipynb\" target=\"_parent\"><img src=\"https://colab.research.google.com/assets/colab-badge.svg\" alt=\"Open In Colab\"/></a>"
      ]
    },
    {
      "cell_type": "markdown",
      "source": [
        "#Cosine_Similarity를 이용한 추천 시스템"
      ],
      "metadata": {
        "id": "fHSxwmJGq8iv"
      }
    },
    {
      "cell_type": "markdown",
      "source": [
        "#데이터 입력"
      ],
      "metadata": {
        "id": "QL7__gtIpj58"
      }
    },
    {
      "cell_type": "code",
      "source": [
        "from google.colab import drive\n",
        "drive.mount('/content/drive')"
      ],
      "metadata": {
        "colab": {
          "base_uri": "https://localhost:8080/"
        },
        "id": "5gFyPMI9sifG",
        "outputId": "ea4125b8-b04d-44bd-afe2-6a56c673451f"
      },
      "execution_count": null,
      "outputs": [
        {
          "output_type": "stream",
          "name": "stdout",
          "text": [
            "Drive already mounted at /content/drive; to attempt to forcibly remount, call drive.mount(\"/content/drive\", force_remount=True).\n"
          ]
        }
      ]
    },
    {
      "cell_type": "code",
      "source": [
        "%cd drive\n",
        "%cd MyDrive\n",
        "%ls\n",
        "\n",
        "f = open(\"1.txt\", 'r')"
      ],
      "metadata": {
        "id": "IDExyXUys8CO"
      },
      "execution_count": null,
      "outputs": []
    },
    {
      "cell_type": "code",
      "execution_count": null,
      "metadata": {
        "id": "QsFoZdzxyqFg",
        "cellView": "code"
      },
      "outputs": [],
      "source": [
        "from sklearn.metrics.pairwise import cosine_similarity\n",
        "num_sim_user_top_N = int(f.readline())\n",
        "num_item_rec_top_M = int(f.readline())\n",
        "num_users = int(f.readline())\n",
        "num_items = int(f.readline())\n",
        "num_rows = int(f.readline())\n",
        "board = [[None for _ in range(num_items)] for _ in range(num_users)] #board[i][j] : i유저가 j아이템에 부여한 점수\n",
        "\n",
        "for i in range(num_rows):\n",
        "  user, item, score = f.readline().split()\n",
        "  board[int(user)-1][int(item)-1] = float(score)\n",
        "num_reco_users = int(f.readline())\n",
        "list = [0 for _ in range(num_reco_users)]\n",
        "for i in range(num_reco_users):\n",
        "  list[i] = int(f.readline())"
      ]
    },
    {
      "cell_type": "markdown",
      "source": [
        "#유사도 계산"
      ],
      "metadata": {
        "id": "SwnFivKmp-7q"
      }
    },
    {
      "cell_type": "code",
      "source": [
        "import pandas as pd\n",
        "import math\n",
        "df = pd.DataFrame(board)\n",
        "df = df.fillna(0)\n",
        "similarity_rate = [[0 for _ in range(num_users)] for _ in range(num_users)]\n",
        "for a in range(num_users):\n",
        "  for b in range(a+1, num_users):\n",
        "    tmp_a, tmp_b, tmp = 0, 0, 0\n",
        "    for i in range(num_items):\n",
        "      tmp_a += pow(df.iloc[a, i], 2)\n",
        "      tmp_b += pow(df.iloc[b, i], 2)\n",
        "      tmp += df.iloc[a, i] * df.iloc[b, i]\n",
        "    tmp_a = math.sqrt(tmp_a)\n",
        "    tmp_b = math.sqrt(tmp_b)\n",
        "    if tmp_a == 0 or tmp_b == 0:\n",
        "      similarity_rate[a][b] = 0.0\n",
        "      similarity_rate[b][a] = 0.0 \n",
        "    else:\n",
        "      similarity_rate[a][b] = tmp/(tmp_a*tmp_b)\n",
        "      similarity_rate[b][a] = tmp/(tmp_a*tmp_b)\n",
        "\n",
        "similarity_rate_df = pd.DataFrame(data=similarity_rate,index=df.index, columns=df.index)\n",
        "print(similarity_rate_df)\n",
        "print(df)"
      ],
      "metadata": {
        "id": "lC3_0K_V1gy2",
        "colab": {
          "base_uri": "https://localhost:8080/"
        },
        "outputId": "3a41185f-7a92-419e-d0dd-2fbd259c7b8b"
      },
      "execution_count": null,
      "outputs": [
        {
          "output_type": "stream",
          "name": "stdout",
          "text": [
            "          0         1         2         3         4         5         6    \\\n",
            "0    0.000000  0.439047  0.579556  0.421390  0.238610  0.426254  0.579443   \n",
            "1    0.439047  0.000000  0.414212  0.261249  0.047659  0.492335  0.330324   \n",
            "2    0.579556  0.414212  0.000000  0.620727  0.507489  0.394532  0.602945   \n",
            "3    0.421390  0.261249  0.620727  0.000000  0.293311  0.146301  0.369125   \n",
            "4    0.238610  0.047659  0.507489  0.293311  0.000000  0.198491  0.283078   \n",
            "..        ...       ...       ...       ...       ...       ...       ...   \n",
            "195  0.247145  0.123755  0.401415  0.470193  0.323552  0.257404  0.255169   \n",
            "196  0.480610  0.205951  0.589717  0.596702  0.470709  0.318495  0.458834   \n",
            "197  0.310803  0.126712  0.220647  0.248802  0.091730  0.243911  0.162271   \n",
            "198  0.423515  0.035988  0.275278  0.130435  0.365311  0.156284  0.019134   \n",
            "199  0.601210  0.241576  0.285710  0.303560  0.040003  0.245299  0.300682   \n",
            "\n",
            "          7         8         9    ...       190       191       192  \\\n",
            "0    0.268339  0.519095  0.256518  ...  0.662768  0.285539  0.494662   \n",
            "1    0.155575  0.205106  0.105736  ...  0.321257  0.010364  0.048695   \n",
            "2    0.474198  0.164497  0.219771  ...  0.635981  0.488090  0.536081   \n",
            "3    0.301718  0.166165  0.248266  ...  0.555250  0.478279  0.356728   \n",
            "4    0.377761  0.113539  0.535798  ...  0.370145  0.484070  0.414920   \n",
            "..        ...       ...       ...  ...       ...       ...       ...   \n",
            "195  0.191366  0.270150  0.299249  ...  0.481646  0.478699  0.297269   \n",
            "196  0.349575  0.177146  0.228301  ...  0.531911  0.416462  0.503006   \n",
            "197  0.177381  0.525420  0.086110  ...  0.277294  0.154936  0.050818   \n",
            "198  0.233488  0.474929  0.402416  ...  0.362663  0.216912  0.194491   \n",
            "199  0.181765  0.712718  0.152489  ...  0.393974  0.141675  0.084353   \n",
            "\n",
            "          193       194       195       196       197       198       199  \n",
            "0    0.224328  0.611861  0.247145  0.480610  0.310803  0.423515  0.601210  \n",
            "1    0.316931  0.461195  0.123755  0.205951  0.126712  0.035988  0.241576  \n",
            "2    0.277836  0.523760  0.401415  0.589717  0.220647  0.275278  0.285710  \n",
            "3    0.087217  0.524295  0.470193  0.596702  0.248802  0.130435  0.303560  \n",
            "4    0.100317  0.111390  0.323552  0.470709  0.091730  0.365311  0.040003  \n",
            "..        ...       ...       ...       ...       ...       ...       ...  \n",
            "195  0.037158  0.323355  0.000000  0.301086  0.243315  0.006298  0.225810  \n",
            "196  0.049607  0.226902  0.301086  0.000000  0.068873  0.371920  0.273179  \n",
            "197  0.414365  0.379615  0.243315  0.068873  0.000000  0.396449  0.549157  \n",
            "198  0.198631  0.098801  0.006298  0.371920  0.396449  0.000000  0.510789  \n",
            "199  0.339349  0.569252  0.225810  0.273179  0.549157  0.510789  0.000000  \n",
            "\n",
            "[200 rows x 200 columns]\n",
            "        0      1      2      3      4      5    6      7      8      9   ...  \\\n",
            "0    4.989  1.000  4.989  1.000  1.000  6.338  1.0  2.543  1.000  1.000  ...   \n",
            "1    0.000  1.000  0.000  0.000  0.000  0.000  0.0  5.332  0.000  0.000  ...   \n",
            "2    0.000  3.446  0.000  4.583  5.332  0.000  0.0  0.000  0.000  1.000  ...   \n",
            "3    0.000  4.989  0.000  4.583  0.000  0.000  0.0  0.000  4.583  4.989  ...   \n",
            "4    0.000  2.543  0.000  0.000  4.989  0.000  1.0  0.000  0.000  1.000  ...   \n",
            "..     ...    ...    ...    ...    ...    ...  ...    ...    ...    ...  ...   \n",
            "195  0.000  0.000  1.000  1.000  1.000  0.000  0.0  0.000  0.000  0.000  ...   \n",
            "196  0.000  2.543  0.000  2.543  1.000  5.332  0.0  0.000  0.000  2.543  ...   \n",
            "197  4.989  0.000  0.000  0.000  0.000  0.000  0.0  0.000  3.446  0.000  ...   \n",
            "198  5.332  0.000  0.000  0.000  0.000  6.532  0.0  0.000  0.000  0.000  ...   \n",
            "199  4.989  0.000  4.583  0.000  1.000  7.028  0.0  0.000  1.000  1.000  ...   \n",
            "\n",
            "        40   41   42     43     44     45     46   47   48     49  \n",
            "0    0.000  0.0  0.0  0.000  0.000  0.000  0.000  0.0  0.0  0.000  \n",
            "1    0.000  0.0  0.0  0.000  0.000  0.000  0.000  0.0  0.0  0.000  \n",
            "2    0.000  0.0  0.0  0.000  0.000  0.000  0.000  0.0  0.0  0.000  \n",
            "3    0.000  0.0  0.0  0.000  0.000  0.000  0.000  0.0  0.0  0.000  \n",
            "4    0.000  0.0  0.0  0.000  0.000  0.000  0.000  0.0  0.0  0.000  \n",
            "..     ...  ...  ...    ...    ...    ...    ...  ...  ...    ...  \n",
            "195  0.000  0.0  1.0  0.000  0.000  0.000  0.000  1.0  0.0  0.000  \n",
            "196  0.000  0.0  0.0  0.000  0.000  0.000  0.000  0.0  0.0  0.000  \n",
            "197  4.989  0.0  0.0  4.989  4.989  4.989  0.000  0.0  0.0  0.000  \n",
            "198  0.000  0.0  0.0  5.332  5.332  5.332  0.000  0.0  0.0  0.000  \n",
            "199  0.000  0.0  1.0  4.989  4.989  4.989  2.543  0.0  0.0  5.629  \n",
            "\n",
            "[200 rows x 50 columns]\n"
          ]
        }
      ]
    },
    {
      "cell_type": "code",
      "source": [
        "\"\"\"import pandas as pd\n",
        "df = pd.DataFrame(board)\n",
        "df = df.fillna(0)\n",
        "similarity_rate = cosine_similarity(df, df)\n",
        "similarity_rate_df = pd.DataFrame(data=similarity_rate,index=df.index,columns=df.index)\n",
        "print(df)\"\"\""
      ],
      "metadata": {
        "colab": {
          "base_uri": "https://localhost:8080/",
          "height": 54
        },
        "id": "g7Yb4r-x2Hrg",
        "outputId": "c536b6e8-1494-4d8e-b005-f56387793950"
      },
      "execution_count": null,
      "outputs": [
        {
          "output_type": "execute_result",
          "data": {
            "text/plain": [
              "'import pandas as pd\\ndf = pd.DataFrame(board)\\ndf = df.fillna(0)\\nsimilarity_rate = cosine_similarity(df, df)\\nsimilarity_rate_df = pd.DataFrame(data=similarity_rate,index=df.index,columns=df.index)\\nprint(df)'"
            ],
            "application/vnd.google.colaboratory.intrinsic+json": {
              "type": "string"
            }
          },
          "metadata": {},
          "execution_count": 198
        }
      ]
    },
    {
      "cell_type": "markdown",
      "source": [
        "#NDCG 계산 및 결과 출력"
      ],
      "metadata": {
        "id": "t4Kmqp0Fq0m4"
      }
    },
    {
      "cell_type": "code",
      "source": [
        "import numpy as np\n",
        "np.fill_diagonal(similarity_rate_df.values, 0)"
      ],
      "metadata": {
        "id": "z0yH7jBB92vh"
      },
      "execution_count": null,
      "outputs": []
    },
    {
      "cell_type": "code",
      "source": [
        "nearest_n = [[[similarity_rate_df.iloc[i,j], j] for j in range(num_users)] for i in range(num_users)]\n",
        "for n in range(len(nearest_n)):\n",
        "  nearest_n[n].sort(reverse=True)\n",
        "\n",
        "nearest_k = [[nearest_n[i][j][1] for j in range(num_sim_user_top_N)] for i in range(num_users)]"
      ],
      "metadata": {
        "id": "YjUHVzFpLG5P"
      },
      "execution_count": null,
      "outputs": []
    },
    {
      "cell_type": "code",
      "source": [
        "item_top_m = []\n",
        "r = [0 for i in range(num_users)]\n",
        "for i in range(num_users):\n",
        "  tmp = 0\n",
        "  cnt = 0\n",
        "  for j in range(num_items):\n",
        "    if df.iloc[i, j] != 0:\n",
        "      tmp += df.iloc[i, j]\n",
        "      cnt += 1\n",
        "  if cnt != 0:\n",
        "    r[i] = tmp/cnt  \n",
        "\n",
        "k = [0 for i in range(num_users)]\n",
        "for i in range(num_users):\n",
        "  tmp = 0\n",
        "  for j in nearest_k[i]:\n",
        "    tmp += abs(similarity_rate_df.iloc[i,j])\n",
        "  if tmp != 0:\n",
        "    k[i] = 1/tmp\n",
        "\n",
        "recom_item = [[] for i in range(num_users)]\n",
        "for u in range(num_users):\n",
        "  for i in range(num_items):\n",
        "    if df.iloc[u,i] == 0:\n",
        "      tmp = 0\n",
        "      for n in nearest_k[u]:\n",
        "        tmp += similarity_rate_df.iloc[u, n]*(df.iloc[n,i]-r[n])\n",
        "      tmp *= k[n]\n",
        "      tmp += r[u]\n",
        "      recom_item[u].append([tmp ,i+1])\n",
        "for i in range(len(recom_item)):\n",
        "  recom_item[i] = sorted(recom_item[i], reverse = True)[:num_item_rec_top_M]\n",
        "  for j in range(len(recom_item[i])):\n",
        "    recom_item[i][j] = recom_item[i][j][1]\n",
        "#print(recom_item)"
      ],
      "metadata": {
        "id": "9pu2DH7WLIaa"
      },
      "execution_count": null,
      "outputs": []
    },
    {
      "cell_type": "code",
      "source": [
        "import math\n",
        "def ndcg(gt, rec):\n",
        "    idcg = sum([1.0 / math.log(i + 2, 2) for i in range(len(gt))])\n",
        "    dcg = 0.0\n",
        "    for i, r in enumerate(rec):\n",
        "        if r not in gt:\n",
        "            continue\n",
        "        gt_index = gt.index(r)\n",
        "        if i != gt_index:\n",
        "            rel = 0.7\n",
        "        else:\n",
        "            rel = 1.0\n",
        "        dcg += rel / math.log(i + 2, 2)\n",
        "    ndcg = dcg / idcg\n",
        "\n",
        "    return ndcg\n",
        "f_out = open(\"2out.txt\", 'r')\n",
        "output = [[0 for _ in range(num_item_rec_top_M)] for _ in range(num_reco_users)]\n",
        "for i in range(num_reco_users):\n",
        "  output[i] = [int(i) for i in f_out.readline().split()]\n",
        "ans = 0\n",
        "cnt = 0\n",
        "for e, l in enumerate(list):\n",
        "  print(recom_item[l-1], output[e])\n",
        "  print(ndcg(recom_item[l-1], output[e]))\n",
        "  if ndcg(recom_item[l-1], output[e]) >= 0.9:\n",
        "    ans += 1\n",
        "  cnt += 1\n",
        "print('score: ', ans/cnt)\n"
      ],
      "metadata": {
        "id": "ffXN4lHAGg5r"
      },
      "execution_count": null,
      "outputs": []
    }
  ]
}